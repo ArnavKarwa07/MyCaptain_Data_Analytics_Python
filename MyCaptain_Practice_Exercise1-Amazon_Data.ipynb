{
 "cells": [
  {
   "cell_type": "markdown",
   "metadata": {},
   "source": [
    "----\n",
    "# MyCaptain - Data Analytics with Python - Practice Exercise 1\n",
    "----"
   ]
  },
  {
   "cell_type": "markdown",
   "metadata": {
    "id": "EDpU8PR45wrn"
   },
   "source": [
    "# Agenda\n",
    "\n",
    "- Exploratory Data Analysis\n",
    "- Data Preprocessing\n"
   ]
  },
  {
   "cell_type": "markdown",
   "metadata": {
    "id": "JP1ADKe8HgSQ"
   },
   "source": [
    "## Exploratory Data Analysis"
   ]
  },
  {
   "cell_type": "markdown",
   "metadata": {
    "id": "muRNrZOj5wrp"
   },
   "source": [
    "- Exploratory data analysis is an approach of analyzing data sets to summarize their main characteristics, often using statistical graphics and other data visualization methods.\n",
    "- It is a good practice to understand the data first and try to gather as many insights from it. EDA is all about making sense of data"
   ]
  },
  {
   "cell_type": "markdown",
   "metadata": {
    "id": "qHrxLBUcUuC1"
   },
   "source": [
    "## Data Preprocessing"
   ]
  },
  {
   "cell_type": "markdown",
   "metadata": {
    "id": "yQ2AV3o6Uxa3"
   },
   "source": [
    "-  Data Preprocessing focuses on processing the data and making it suitable for the model.\n",
    "\n",
    "- Before building any machine learning model it is crucial to perform data preprocessing to feed the correct data to the model to learn and predict. Model performance depends on the quality of data feeded to the model to train.\n",
    "\n",
    "- It involves various steps like \n",
    "  - Handling duplicates\n",
    "  - Handling missing values\n",
    "  - Handling outliers\n",
    "  - Handling garbage data, incorrect or invalid data \n",
    "  - Changing data types \n",
    "  - Converting features into numerical data type\n",
    "  - Standardising and normalising the data\n",
    "  - Making transformations of variables as needed - log tranformation, power transformation etc \n",
    "\n",
    "- These are some of the common steps. But most of these data preprocessing steps depend on case to case basis."
   ]
  },
  {
   "cell_type": "markdown",
   "metadata": {
    "id": "UvI8xpFh5wrq"
   },
   "source": [
    "## Table of Content\n",
    "\n",
    "1. About dataset\n",
    "\n",
    "2. Import necessary libraries\n",
    "\n",
    "3. Load the dataset\n",
    "\n",
    "4. Explore the data.\n",
    "\n",
    "5. Data Pre-processing\n",
    "\n",
    "  - 5.1 Identifying and removing Duplicates from your data\n",
    "  \n",
    "  - 5.2 Removing unwanted characters and changing datatypes\n",
    "  \n",
    "  - 5.3 Identifying and imputing missing values\n",
    "    - Ways of detecting missing values & Standard and non-standard missing values\n",
    "    - Basic imputation methods for replacing missing values\n",
    "\n",
    "  - 5.4 Outlier detection & Imputation- visually, and statistically  "
   ]
  },
  {
   "cell_type": "markdown",
   "metadata": {
    "id": "KNhaa0mG5wrq"
   },
   "source": [
    "<a id=\"ad\"> </a>\n",
    "## 1. About dataset"
   ]
  },
  {
   "cell_type": "markdown",
   "metadata": {
    "id": "ncgCAVQ95wrq"
   },
   "source": [
    "- Amazon.com, Inc. is an American multinational conglomerate that focuses on e-commerce, cloud computing, digital streaming, and artificial intelligence. It is one of the Big Five companies in the U.S. information technology industry, along with Google, Apple, Microsoft, and Facebook.\n",
    "\n",
    "\n",
    "- Amazon Top Rated Smartphones & Accessories 2021 Dataset was scraped from amazon.in website of the e-commerce amazon India. the dataset contains smartphones title with its specification according to its rating and number of review count in the dataset column. there is a piece of additional information about the smartphone. that is its offer price and actual price with its discount percentage and delivery options\n",
    "\n",
    "\n",
    "- Amazon Top Rated Smartphones & Accessories 2021 dataset is scraped from the e-commerce website."
   ]
  },
  {
   "cell_type": "markdown",
   "metadata": {
    "id": "rAerMfVN5wrr"
   },
   "source": [
    "<a id=\"inl\"> </a>\n",
    "## 2. Import the necessary libraries."
   ]
  },
  {
   "cell_type": "code",
   "execution_count": 1,
   "metadata": {
    "id": "qKpIBTcd5wrr"
   },
   "outputs": [],
   "source": [
    "import numpy as np\n",
    "import pandas as pd\n",
    "import warnings\n",
    "warnings.filterwarnings('ignore')\n",
    "import seaborn as sns\n",
    "import matplotlib.pyplot as plt\n",
    "import sklearn #for ML algorithms\n",
    "from sklearn.preprocessing import LabelEncoder, MinMaxScaler, StandardScaler\n",
    "from sklearn.impute import KNNImputer"
   ]
  },
  {
   "cell_type": "markdown",
   "metadata": {
    "id": "FPSEIaew5wrs"
   },
   "source": [
    "<a id=\"ld\"> </a>\n",
    "## 3. Load the dataset."
   ]
  },
  {
   "cell_type": "code",
   "execution_count": 2,
   "metadata": {
    "colab": {
     "base_uri": "https://localhost:8080/"
    },
    "executionInfo": {
     "elapsed": 763,
     "status": "ok",
     "timestamp": 1665620762243,
     "user": {
      "displayName": "V. Arun Kumar",
      "userId": "02991517788843717529"
     },
     "user_tz": -330
    },
    "id": "tJaXLzD65wrt",
    "outputId": "de0adc9d-97a5-421a-f697-586ba2a74b9c"
   },
   "outputs": [
    {
     "data": {
      "text/html": [
       "<div>\n",
       "<style scoped>\n",
       "    .dataframe tbody tr th:only-of-type {\n",
       "        vertical-align: middle;\n",
       "    }\n",
       "\n",
       "    .dataframe tbody tr th {\n",
       "        vertical-align: top;\n",
       "    }\n",
       "\n",
       "    .dataframe thead th {\n",
       "        text-align: right;\n",
       "    }\n",
       "</style>\n",
       "<table border=\"1\" class=\"dataframe\">\n",
       "  <thead>\n",
       "    <tr style=\"text-align: right;\">\n",
       "      <th></th>\n",
       "      <th>Smartphone</th>\n",
       "      <th>Rating</th>\n",
       "      <th>Reviews count</th>\n",
       "      <th>Offer price</th>\n",
       "      <th>Actual price</th>\n",
       "      <th>Saving</th>\n",
       "      <th>Delivery</th>\n",
       "      <th>Status of stock &amp; more offers</th>\n",
       "    </tr>\n",
       "  </thead>\n",
       "  <tbody>\n",
       "    <tr>\n",
       "      <th>0</th>\n",
       "      <td>Redmi 9 (Sky Blue, 4GB RAM, 64GB Storage) | 2....</td>\n",
       "      <td>4.2 out of 5 stars</td>\n",
       "      <td>87,809</td>\n",
       "      <td>₹9,499</td>\n",
       "      <td>₹10,999</td>\n",
       "      <td>Save ₹1,500 (14%)</td>\n",
       "      <td>FREE Delivery by Amazon</td>\n",
       "      <td>NaN</td>\n",
       "    </tr>\n",
       "    <tr>\n",
       "      <th>1</th>\n",
       "      <td>Redmi 9A (Nature Green, 2GB RAM, 32GB Storage)...</td>\n",
       "      <td>4.2 out of 5 stars</td>\n",
       "      <td>74,587</td>\n",
       "      <td>₹6,999</td>\n",
       "      <td>₹8,499</td>\n",
       "      <td>Save ₹1,500 (18%)</td>\n",
       "      <td>FREE Delivery by Amazon</td>\n",
       "      <td>NaN</td>\n",
       "    </tr>\n",
       "    <tr>\n",
       "      <th>2</th>\n",
       "      <td>Redmi 9A (Sea Blue 2GB RAM 32GB Storage) | 2GH...</td>\n",
       "      <td>4.2 out of 5 stars</td>\n",
       "      <td>74,587</td>\n",
       "      <td>₹6,999</td>\n",
       "      <td>₹8,499</td>\n",
       "      <td>Save ₹1,500 (18%)</td>\n",
       "      <td>FREE Delivery by Amazon</td>\n",
       "      <td>NaN</td>\n",
       "    </tr>\n",
       "    <tr>\n",
       "      <th>3</th>\n",
       "      <td>Redmi Note 10 (Aqua Green, 4GB RAM, 64GB Stora...</td>\n",
       "      <td>4.2 out of 5 stars</td>\n",
       "      <td>95,519</td>\n",
       "      <td>₹13,999</td>\n",
       "      <td>₹15,999</td>\n",
       "      <td>Save ₹2,000 (13%)</td>\n",
       "      <td>FREE Delivery by Amazon</td>\n",
       "      <td>NaN</td>\n",
       "    </tr>\n",
       "    <tr>\n",
       "      <th>4</th>\n",
       "      <td>Redmi 9 (Carbon Black, 4GB RAM, 64GB Storage) ...</td>\n",
       "      <td>4.2 out of 5 stars</td>\n",
       "      <td>87,809</td>\n",
       "      <td>₹9,499</td>\n",
       "      <td>₹10,999</td>\n",
       "      <td>Save ₹1,500 (14%)</td>\n",
       "      <td>FREE Delivery by Amazon</td>\n",
       "      <td>NaN</td>\n",
       "    </tr>\n",
       "  </tbody>\n",
       "</table>\n",
       "</div>"
      ],
      "text/plain": [
       "                                          Smartphone              Rating  \\\n",
       "0  Redmi 9 (Sky Blue, 4GB RAM, 64GB Storage) | 2....  4.2 out of 5 stars   \n",
       "1  Redmi 9A (Nature Green, 2GB RAM, 32GB Storage)...  4.2 out of 5 stars   \n",
       "2  Redmi 9A (Sea Blue 2GB RAM 32GB Storage) | 2GH...  4.2 out of 5 stars   \n",
       "3  Redmi Note 10 (Aqua Green, 4GB RAM, 64GB Stora...  4.2 out of 5 stars   \n",
       "4  Redmi 9 (Carbon Black, 4GB RAM, 64GB Storage) ...  4.2 out of 5 stars   \n",
       "\n",
       "  Reviews count Offer price Actual price             Saving  \\\n",
       "0        87,809      ₹9,499      ₹10,999  Save ₹1,500 (14%)   \n",
       "1        74,587      ₹6,999       ₹8,499  Save ₹1,500 (18%)   \n",
       "2        74,587      ₹6,999       ₹8,499  Save ₹1,500 (18%)   \n",
       "3        95,519     ₹13,999      ₹15,999  Save ₹2,000 (13%)   \n",
       "4        87,809      ₹9,499      ₹10,999  Save ₹1,500 (14%)   \n",
       "\n",
       "                  Delivery Status of stock & more offers  \n",
       "0  FREE Delivery by Amazon                           NaN  \n",
       "1  FREE Delivery by Amazon                           NaN  \n",
       "2  FREE Delivery by Amazon                           NaN  \n",
       "3  FREE Delivery by Amazon                           NaN  \n",
       "4  FREE Delivery by Amazon                           NaN  "
      ]
     },
     "execution_count": 2,
     "metadata": {},
     "output_type": "execute_result"
    }
   ],
   "source": [
    "# Amazon_data.csv\n",
    "amazon_data = pd.read_csv('Amazon_data.csv')\n",
    "amazon_data.head()"
   ]
  },
  {
   "cell_type": "markdown",
   "metadata": {},
   "source": [
    "## 4. Explore the data."
   ]
  },
  {
   "cell_type": "code",
   "execution_count": 3,
   "metadata": {},
   "outputs": [],
   "source": [
    "# check info, shape, columns, datatypes and more....and write your inferences."
   ]
  },
  {
   "cell_type": "code",
   "execution_count": 4,
   "metadata": {},
   "outputs": [
    {
     "data": {
      "text/plain": [
       "(1367, 8)"
      ]
     },
     "execution_count": 4,
     "metadata": {},
     "output_type": "execute_result"
    }
   ],
   "source": [
    "amazon_data.shape"
   ]
  },
  {
   "cell_type": "code",
   "execution_count": 5,
   "metadata": {},
   "outputs": [
    {
     "name": "stdout",
     "output_type": "stream",
     "text": [
      "<class 'pandas.core.frame.DataFrame'>\n",
      "RangeIndex: 1367 entries, 0 to 1366\n",
      "Data columns (total 8 columns):\n",
      " #   Column                         Non-Null Count  Dtype \n",
      "---  ------                         --------------  ----- \n",
      " 0   Smartphone                     1367 non-null   object\n",
      " 1   Rating                         1367 non-null   object\n",
      " 2   Reviews count                  1367 non-null   object\n",
      " 3   Offer price                    1153 non-null   object\n",
      " 4   Actual price                   1041 non-null   object\n",
      " 5   Saving                         1150 non-null   object\n",
      " 6   Delivery                       1367 non-null   object\n",
      " 7   Status of stock & more offers  498 non-null    object\n",
      "dtypes: object(8)\n",
      "memory usage: 85.6+ KB\n"
     ]
    }
   ],
   "source": [
    "amazon_data.info()"
   ]
  },
  {
   "cell_type": "code",
   "execution_count": 6,
   "metadata": {},
   "outputs": [
    {
     "data": {
      "text/plain": [
       "Index(['Smartphone', 'Rating', 'Reviews count', 'Offer price', 'Actual price',\n",
       "       'Saving', 'Delivery', 'Status of stock & more offers'],\n",
       "      dtype='object')"
      ]
     },
     "execution_count": 6,
     "metadata": {},
     "output_type": "execute_result"
    }
   ],
   "source": [
    "amazon_data.columns"
   ]
  },
  {
   "cell_type": "code",
   "execution_count": 7,
   "metadata": {},
   "outputs": [
    {
     "data": {
      "text/plain": [
       "Smartphone                       1307\n",
       "Rating                             11\n",
       "Reviews count                     363\n",
       "Offer price                       510\n",
       "Actual price                      281\n",
       "Saving                            611\n",
       "Delivery                            3\n",
       "Status of stock & more offers      17\n",
       "dtype: int64"
      ]
     },
     "execution_count": 7,
     "metadata": {},
     "output_type": "execute_result"
    }
   ],
   "source": [
    "amazon_data.nunique()"
   ]
  },
  {
   "cell_type": "markdown",
   "metadata": {
    "id": "L_QB39kx5wru"
   },
   "source": [
    "<a id=\"dp\"> </a>\n",
    "## 5. Data Pre-processing"
   ]
  },
  {
   "cell_type": "markdown",
   "metadata": {
    "id": "RbZ1n5Bd5wru"
   },
   "source": [
    "<a id=\"fdd\"> </a>\n",
    "### 5.1 Find and drop duplicate values."
   ]
  },
  {
   "cell_type": "markdown",
   "metadata": {
    "id": "0yuesqEX5wru"
   },
   "source": [
    "###### Lets check for the duplicate rows in the data and drop those."
   ]
  },
  {
   "cell_type": "code",
   "execution_count": 8,
   "metadata": {
    "colab": {
     "base_uri": "https://localhost:8080/"
    },
    "executionInfo": {
     "elapsed": 27,
     "status": "ok",
     "timestamp": 1665620762244,
     "user": {
      "displayName": "V. Arun Kumar",
      "userId": "02991517788843717529"
     },
     "user_tz": -330
    },
    "id": "8McKl8xw5wru",
    "outputId": "da9b1cac-01a3-4013-9bbe-6bb46eda0f56"
   },
   "outputs": [
    {
     "data": {
      "text/plain": [
       "56"
      ]
     },
     "execution_count": 8,
     "metadata": {},
     "output_type": "execute_result"
    }
   ],
   "source": [
    "##Identify duplicates records in the data\n",
    "len(amazon_data[amazon_data.duplicated])"
   ]
  },
  {
   "cell_type": "code",
   "execution_count": 9,
   "metadata": {
    "id": "1JkJzhb75wrv"
   },
   "outputs": [],
   "source": [
    "#Removing Duplicates\n",
    "amazon_data.drop_duplicates(keep='first',inplace=True)"
   ]
  },
  {
   "cell_type": "code",
   "execution_count": 10,
   "metadata": {
    "colab": {
     "base_uri": "https://localhost:8080/"
    },
    "executionInfo": {
     "elapsed": 26,
     "status": "ok",
     "timestamp": 1665620762245,
     "user": {
      "displayName": "V. Arun Kumar",
      "userId": "02991517788843717529"
     },
     "user_tz": -330
    },
    "id": "mIRyMgow5wrv",
    "outputId": "bb8ca4e6-81c2-4c08-8ab5-8f2cf72eab79"
   },
   "outputs": [
    {
     "data": {
      "text/plain": [
       "0"
      ]
     },
     "execution_count": 10,
     "metadata": {},
     "output_type": "execute_result"
    }
   ],
   "source": [
    "## Check for duplicate values again\n",
    "len(amazon_data[amazon_data.duplicated])"
   ]
  },
  {
   "cell_type": "markdown",
   "metadata": {
    "id": "_8IdqQ8s5wrv"
   },
   "source": [
    "<a id=\"ru\"> </a>\n",
    "### 5.2 Removing unwanted characters and changing the datatype"
   ]
  },
  {
   "cell_type": "code",
   "execution_count": 11,
   "metadata": {
    "colab": {
     "base_uri": "https://localhost:8080/",
     "height": 208
    },
    "executionInfo": {
     "elapsed": 20,
     "status": "ok",
     "timestamp": 1665620762245,
     "user": {
      "displayName": "V. Arun Kumar",
      "userId": "02991517788843717529"
     },
     "user_tz": -330
    },
    "id": "3yddZxcS5wrv",
    "outputId": "2ac68d29-5ce9-457e-bb7a-eb83ee6bd1c5",
    "scrolled": true
   },
   "outputs": [
    {
     "data": {
      "text/html": [
       "<div>\n",
       "<style scoped>\n",
       "    .dataframe tbody tr th:only-of-type {\n",
       "        vertical-align: middle;\n",
       "    }\n",
       "\n",
       "    .dataframe tbody tr th {\n",
       "        vertical-align: top;\n",
       "    }\n",
       "\n",
       "    .dataframe thead th {\n",
       "        text-align: right;\n",
       "    }\n",
       "</style>\n",
       "<table border=\"1\" class=\"dataframe\">\n",
       "  <thead>\n",
       "    <tr style=\"text-align: right;\">\n",
       "      <th></th>\n",
       "      <th>Smartphone</th>\n",
       "      <th>Rating</th>\n",
       "      <th>Reviews count</th>\n",
       "      <th>Offer price</th>\n",
       "      <th>Actual price</th>\n",
       "      <th>Saving</th>\n",
       "      <th>Delivery</th>\n",
       "      <th>Status of stock &amp; more offers</th>\n",
       "    </tr>\n",
       "  </thead>\n",
       "  <tbody>\n",
       "    <tr>\n",
       "      <th>0</th>\n",
       "      <td>Redmi 9 (Sky Blue, 4GB RAM, 64GB Storage) | 2....</td>\n",
       "      <td>4.2 out of 5 stars</td>\n",
       "      <td>87,809</td>\n",
       "      <td>₹9,499</td>\n",
       "      <td>₹10,999</td>\n",
       "      <td>Save ₹1,500 (14%)</td>\n",
       "      <td>FREE Delivery by Amazon</td>\n",
       "      <td>NaN</td>\n",
       "    </tr>\n",
       "    <tr>\n",
       "      <th>1</th>\n",
       "      <td>Redmi 9A (Nature Green, 2GB RAM, 32GB Storage)...</td>\n",
       "      <td>4.2 out of 5 stars</td>\n",
       "      <td>74,587</td>\n",
       "      <td>₹6,999</td>\n",
       "      <td>₹8,499</td>\n",
       "      <td>Save ₹1,500 (18%)</td>\n",
       "      <td>FREE Delivery by Amazon</td>\n",
       "      <td>NaN</td>\n",
       "    </tr>\n",
       "    <tr>\n",
       "      <th>2</th>\n",
       "      <td>Redmi 9A (Sea Blue 2GB RAM 32GB Storage) | 2GH...</td>\n",
       "      <td>4.2 out of 5 stars</td>\n",
       "      <td>74,587</td>\n",
       "      <td>₹6,999</td>\n",
       "      <td>₹8,499</td>\n",
       "      <td>Save ₹1,500 (18%)</td>\n",
       "      <td>FREE Delivery by Amazon</td>\n",
       "      <td>NaN</td>\n",
       "    </tr>\n",
       "    <tr>\n",
       "      <th>3</th>\n",
       "      <td>Redmi Note 10 (Aqua Green, 4GB RAM, 64GB Stora...</td>\n",
       "      <td>4.2 out of 5 stars</td>\n",
       "      <td>95,519</td>\n",
       "      <td>₹13,999</td>\n",
       "      <td>₹15,999</td>\n",
       "      <td>Save ₹2,000 (13%)</td>\n",
       "      <td>FREE Delivery by Amazon</td>\n",
       "      <td>NaN</td>\n",
       "    </tr>\n",
       "    <tr>\n",
       "      <th>4</th>\n",
       "      <td>Redmi 9 (Carbon Black, 4GB RAM, 64GB Storage) ...</td>\n",
       "      <td>4.2 out of 5 stars</td>\n",
       "      <td>87,809</td>\n",
       "      <td>₹9,499</td>\n",
       "      <td>₹10,999</td>\n",
       "      <td>Save ₹1,500 (14%)</td>\n",
       "      <td>FREE Delivery by Amazon</td>\n",
       "      <td>NaN</td>\n",
       "    </tr>\n",
       "  </tbody>\n",
       "</table>\n",
       "</div>"
      ],
      "text/plain": [
       "                                          Smartphone              Rating  \\\n",
       "0  Redmi 9 (Sky Blue, 4GB RAM, 64GB Storage) | 2....  4.2 out of 5 stars   \n",
       "1  Redmi 9A (Nature Green, 2GB RAM, 32GB Storage)...  4.2 out of 5 stars   \n",
       "2  Redmi 9A (Sea Blue 2GB RAM 32GB Storage) | 2GH...  4.2 out of 5 stars   \n",
       "3  Redmi Note 10 (Aqua Green, 4GB RAM, 64GB Stora...  4.2 out of 5 stars   \n",
       "4  Redmi 9 (Carbon Black, 4GB RAM, 64GB Storage) ...  4.2 out of 5 stars   \n",
       "\n",
       "  Reviews count Offer price Actual price             Saving  \\\n",
       "0        87,809      ₹9,499      ₹10,999  Save ₹1,500 (14%)   \n",
       "1        74,587      ₹6,999       ₹8,499  Save ₹1,500 (18%)   \n",
       "2        74,587      ₹6,999       ₹8,499  Save ₹1,500 (18%)   \n",
       "3        95,519     ₹13,999      ₹15,999  Save ₹2,000 (13%)   \n",
       "4        87,809      ₹9,499      ₹10,999  Save ₹1,500 (14%)   \n",
       "\n",
       "                  Delivery Status of stock & more offers  \n",
       "0  FREE Delivery by Amazon                           NaN  \n",
       "1  FREE Delivery by Amazon                           NaN  \n",
       "2  FREE Delivery by Amazon                           NaN  \n",
       "3  FREE Delivery by Amazon                           NaN  \n",
       "4  FREE Delivery by Amazon                           NaN  "
      ]
     },
     "execution_count": 11,
     "metadata": {},
     "output_type": "execute_result"
    }
   ],
   "source": [
    "amazon_data.head()"
   ]
  },
  {
   "cell_type": "markdown",
   "metadata": {},
   "source": [
    "Observations for removing unwanted characters and changes in the dataset to prepare it for analysis:\n",
    "1. Rating column can be made numeric (float) by extracting the rating value from it\n",
    "2. Reviews count can be made numeric by removing commas from the values\n",
    "3. Offer Price and Actual Price columns can be made numeric by removing commas and rupees sign from the values\n",
    "4. We can extract saving value or percentage from the Saving column and make it numeric"
   ]
  },
  {
   "cell_type": "markdown",
   "metadata": {
    "id": "IH1uz-U6MW6n"
   },
   "source": [
    "#### 5.2.1 Let's handle Rating column"
   ]
  },
  {
   "cell_type": "code",
   "execution_count": 12,
   "metadata": {
    "id": "YmSJpqjP5wrv"
   },
   "outputs": [],
   "source": [
    "#SPLITING THE NUMERIC RATING VALUES IN FLOATS\n",
    "amazon_data['Rating'] = amazon_data['Rating'].str.split(' ').str.get(0).astype(float)\n"
   ]
  },
  {
   "cell_type": "code",
   "execution_count": 13,
   "metadata": {},
   "outputs": [
    {
     "data": {
      "text/html": [
       "<div>\n",
       "<style scoped>\n",
       "    .dataframe tbody tr th:only-of-type {\n",
       "        vertical-align: middle;\n",
       "    }\n",
       "\n",
       "    .dataframe tbody tr th {\n",
       "        vertical-align: top;\n",
       "    }\n",
       "\n",
       "    .dataframe thead th {\n",
       "        text-align: right;\n",
       "    }\n",
       "</style>\n",
       "<table border=\"1\" class=\"dataframe\">\n",
       "  <thead>\n",
       "    <tr style=\"text-align: right;\">\n",
       "      <th></th>\n",
       "      <th>Smartphone</th>\n",
       "      <th>Rating</th>\n",
       "      <th>Reviews count</th>\n",
       "      <th>Offer price</th>\n",
       "      <th>Actual price</th>\n",
       "      <th>Saving</th>\n",
       "      <th>Delivery</th>\n",
       "      <th>Status of stock &amp; more offers</th>\n",
       "    </tr>\n",
       "  </thead>\n",
       "  <tbody>\n",
       "    <tr>\n",
       "      <th>0</th>\n",
       "      <td>Redmi 9 (Sky Blue, 4GB RAM, 64GB Storage) | 2....</td>\n",
       "      <td>4.2</td>\n",
       "      <td>87,809</td>\n",
       "      <td>₹9,499</td>\n",
       "      <td>₹10,999</td>\n",
       "      <td>Save ₹1,500 (14%)</td>\n",
       "      <td>FREE Delivery by Amazon</td>\n",
       "      <td>NaN</td>\n",
       "    </tr>\n",
       "    <tr>\n",
       "      <th>1</th>\n",
       "      <td>Redmi 9A (Nature Green, 2GB RAM, 32GB Storage)...</td>\n",
       "      <td>4.2</td>\n",
       "      <td>74,587</td>\n",
       "      <td>₹6,999</td>\n",
       "      <td>₹8,499</td>\n",
       "      <td>Save ₹1,500 (18%)</td>\n",
       "      <td>FREE Delivery by Amazon</td>\n",
       "      <td>NaN</td>\n",
       "    </tr>\n",
       "    <tr>\n",
       "      <th>2</th>\n",
       "      <td>Redmi 9A (Sea Blue 2GB RAM 32GB Storage) | 2GH...</td>\n",
       "      <td>4.2</td>\n",
       "      <td>74,587</td>\n",
       "      <td>₹6,999</td>\n",
       "      <td>₹8,499</td>\n",
       "      <td>Save ₹1,500 (18%)</td>\n",
       "      <td>FREE Delivery by Amazon</td>\n",
       "      <td>NaN</td>\n",
       "    </tr>\n",
       "    <tr>\n",
       "      <th>3</th>\n",
       "      <td>Redmi Note 10 (Aqua Green, 4GB RAM, 64GB Stora...</td>\n",
       "      <td>4.2</td>\n",
       "      <td>95,519</td>\n",
       "      <td>₹13,999</td>\n",
       "      <td>₹15,999</td>\n",
       "      <td>Save ₹2,000 (13%)</td>\n",
       "      <td>FREE Delivery by Amazon</td>\n",
       "      <td>NaN</td>\n",
       "    </tr>\n",
       "    <tr>\n",
       "      <th>4</th>\n",
       "      <td>Redmi 9 (Carbon Black, 4GB RAM, 64GB Storage) ...</td>\n",
       "      <td>4.2</td>\n",
       "      <td>87,809</td>\n",
       "      <td>₹9,499</td>\n",
       "      <td>₹10,999</td>\n",
       "      <td>Save ₹1,500 (14%)</td>\n",
       "      <td>FREE Delivery by Amazon</td>\n",
       "      <td>NaN</td>\n",
       "    </tr>\n",
       "  </tbody>\n",
       "</table>\n",
       "</div>"
      ],
      "text/plain": [
       "                                          Smartphone  Rating Reviews count  \\\n",
       "0  Redmi 9 (Sky Blue, 4GB RAM, 64GB Storage) | 2....     4.2        87,809   \n",
       "1  Redmi 9A (Nature Green, 2GB RAM, 32GB Storage)...     4.2        74,587   \n",
       "2  Redmi 9A (Sea Blue 2GB RAM 32GB Storage) | 2GH...     4.2        74,587   \n",
       "3  Redmi Note 10 (Aqua Green, 4GB RAM, 64GB Stora...     4.2        95,519   \n",
       "4  Redmi 9 (Carbon Black, 4GB RAM, 64GB Storage) ...     4.2        87,809   \n",
       "\n",
       "  Offer price Actual price             Saving                 Delivery  \\\n",
       "0      ₹9,499      ₹10,999  Save ₹1,500 (14%)  FREE Delivery by Amazon   \n",
       "1      ₹6,999       ₹8,499  Save ₹1,500 (18%)  FREE Delivery by Amazon   \n",
       "2      ₹6,999       ₹8,499  Save ₹1,500 (18%)  FREE Delivery by Amazon   \n",
       "3     ₹13,999      ₹15,999  Save ₹2,000 (13%)  FREE Delivery by Amazon   \n",
       "4      ₹9,499      ₹10,999  Save ₹1,500 (14%)  FREE Delivery by Amazon   \n",
       "\n",
       "  Status of stock & more offers  \n",
       "0                           NaN  \n",
       "1                           NaN  \n",
       "2                           NaN  \n",
       "3                           NaN  \n",
       "4                           NaN  "
      ]
     },
     "execution_count": 13,
     "metadata": {},
     "output_type": "execute_result"
    }
   ],
   "source": [
    "amazon_data.head()"
   ]
  },
  {
   "cell_type": "markdown",
   "metadata": {
    "id": "TfdBcy8sMcHn"
   },
   "source": [
    "#### 5.2.2 Let's handle Reviews count column"
   ]
  },
  {
   "cell_type": "code",
   "execution_count": 14,
   "metadata": {
    "id": "FyyP_GXH5wrv"
   },
   "outputs": [],
   "source": [
    "#converting reviews count in integers\n",
    "amazon_data['Reviews count'] = amazon_data['Reviews count'].str.replace(',', '').astype(int)"
   ]
  },
  {
   "cell_type": "code",
   "execution_count": 15,
   "metadata": {},
   "outputs": [
    {
     "data": {
      "text/html": [
       "<div>\n",
       "<style scoped>\n",
       "    .dataframe tbody tr th:only-of-type {\n",
       "        vertical-align: middle;\n",
       "    }\n",
       "\n",
       "    .dataframe tbody tr th {\n",
       "        vertical-align: top;\n",
       "    }\n",
       "\n",
       "    .dataframe thead th {\n",
       "        text-align: right;\n",
       "    }\n",
       "</style>\n",
       "<table border=\"1\" class=\"dataframe\">\n",
       "  <thead>\n",
       "    <tr style=\"text-align: right;\">\n",
       "      <th></th>\n",
       "      <th>Smartphone</th>\n",
       "      <th>Rating</th>\n",
       "      <th>Reviews count</th>\n",
       "      <th>Offer price</th>\n",
       "      <th>Actual price</th>\n",
       "      <th>Saving</th>\n",
       "      <th>Delivery</th>\n",
       "      <th>Status of stock &amp; more offers</th>\n",
       "    </tr>\n",
       "  </thead>\n",
       "  <tbody>\n",
       "    <tr>\n",
       "      <th>0</th>\n",
       "      <td>Redmi 9 (Sky Blue, 4GB RAM, 64GB Storage) | 2....</td>\n",
       "      <td>4.2</td>\n",
       "      <td>87809</td>\n",
       "      <td>₹9,499</td>\n",
       "      <td>₹10,999</td>\n",
       "      <td>Save ₹1,500 (14%)</td>\n",
       "      <td>FREE Delivery by Amazon</td>\n",
       "      <td>NaN</td>\n",
       "    </tr>\n",
       "    <tr>\n",
       "      <th>1</th>\n",
       "      <td>Redmi 9A (Nature Green, 2GB RAM, 32GB Storage)...</td>\n",
       "      <td>4.2</td>\n",
       "      <td>74587</td>\n",
       "      <td>₹6,999</td>\n",
       "      <td>₹8,499</td>\n",
       "      <td>Save ₹1,500 (18%)</td>\n",
       "      <td>FREE Delivery by Amazon</td>\n",
       "      <td>NaN</td>\n",
       "    </tr>\n",
       "  </tbody>\n",
       "</table>\n",
       "</div>"
      ],
      "text/plain": [
       "                                          Smartphone  Rating  Reviews count  \\\n",
       "0  Redmi 9 (Sky Blue, 4GB RAM, 64GB Storage) | 2....     4.2          87809   \n",
       "1  Redmi 9A (Nature Green, 2GB RAM, 32GB Storage)...     4.2          74587   \n",
       "\n",
       "  Offer price Actual price             Saving                 Delivery  \\\n",
       "0      ₹9,499      ₹10,999  Save ₹1,500 (14%)  FREE Delivery by Amazon   \n",
       "1      ₹6,999       ₹8,499  Save ₹1,500 (18%)  FREE Delivery by Amazon   \n",
       "\n",
       "  Status of stock & more offers  \n",
       "0                           NaN  \n",
       "1                           NaN  "
      ]
     },
     "execution_count": 15,
     "metadata": {},
     "output_type": "execute_result"
    }
   ],
   "source": [
    "amazon_data.head(2)"
   ]
  },
  {
   "cell_type": "markdown",
   "metadata": {
    "id": "YhduScScMi2i"
   },
   "source": [
    "#### 5.2.3 Let's deal with Price columns"
   ]
  },
  {
   "cell_type": "code",
   "execution_count": 16,
   "metadata": {
    "id": "pw8bFxmG5wrv"
   },
   "outputs": [],
   "source": [
    "#converting Price columns in integers\n",
    "#Offer price\n",
    "#removing comma\n",
    "amazon_data['Offer price'] = amazon_data['Offer price'].str.replace(',', '')\n",
    "#removing ₹\n",
    "amazon_data['Offer price'] = amazon_data['Offer price'].str.replace('₹','')\n",
    "#removing .\n",
    "amazon_data['Offer price'] = amazon_data['Offer price'].str.replace('.','')\n",
    "#Actual price\n",
    "#removing comma\n",
    "amazon_data['Actual price'] = amazon_data['Actual price'].str.replace(',', '')\n",
    "#removing ₹\n",
    "amazon_data['Actual price'] = amazon_data['Actual price'].str.replace('₹','')\n",
    "#removing .\n",
    "amazon_data['Actual price'] = amazon_data['Actual price'].str.replace('.','')"
   ]
  },
  {
   "cell_type": "code",
   "execution_count": 17,
   "metadata": {},
   "outputs": [],
   "source": [
    "#converting data type to numeric type\n",
    "#as null values exists, the default type of nan values is float\n",
    "#only converting non-null values to integer\n",
    "#convert null values later after imputing null values\n",
    "amazon_data.loc[amazon_data['Offer price'].notnull(),'Offer price'] = amazon_data.loc[amazon_data['Offer price'].notnull(),'Offer price'].apply(int)\n",
    "amazon_data.loc[amazon_data['Actual price'].notnull(),'Actual price'] = amazon_data.loc[amazon_data['Actual price'].notnull(),'Actual price'].apply(int)"
   ]
  },
  {
   "cell_type": "code",
   "execution_count": 18,
   "metadata": {},
   "outputs": [
    {
     "data": {
      "text/html": [
       "<div>\n",
       "<style scoped>\n",
       "    .dataframe tbody tr th:only-of-type {\n",
       "        vertical-align: middle;\n",
       "    }\n",
       "\n",
       "    .dataframe tbody tr th {\n",
       "        vertical-align: top;\n",
       "    }\n",
       "\n",
       "    .dataframe thead th {\n",
       "        text-align: right;\n",
       "    }\n",
       "</style>\n",
       "<table border=\"1\" class=\"dataframe\">\n",
       "  <thead>\n",
       "    <tr style=\"text-align: right;\">\n",
       "      <th></th>\n",
       "      <th>Smartphone</th>\n",
       "      <th>Rating</th>\n",
       "      <th>Reviews count</th>\n",
       "      <th>Offer price</th>\n",
       "      <th>Actual price</th>\n",
       "      <th>Saving</th>\n",
       "      <th>Delivery</th>\n",
       "      <th>Status of stock &amp; more offers</th>\n",
       "    </tr>\n",
       "  </thead>\n",
       "  <tbody>\n",
       "    <tr>\n",
       "      <th>0</th>\n",
       "      <td>Redmi 9 (Sky Blue, 4GB RAM, 64GB Storage) | 2....</td>\n",
       "      <td>4.2</td>\n",
       "      <td>87809</td>\n",
       "      <td>9499</td>\n",
       "      <td>10999</td>\n",
       "      <td>Save ₹1,500 (14%)</td>\n",
       "      <td>FREE Delivery by Amazon</td>\n",
       "      <td>NaN</td>\n",
       "    </tr>\n",
       "    <tr>\n",
       "      <th>1</th>\n",
       "      <td>Redmi 9A (Nature Green, 2GB RAM, 32GB Storage)...</td>\n",
       "      <td>4.2</td>\n",
       "      <td>74587</td>\n",
       "      <td>6999</td>\n",
       "      <td>8499</td>\n",
       "      <td>Save ₹1,500 (18%)</td>\n",
       "      <td>FREE Delivery by Amazon</td>\n",
       "      <td>NaN</td>\n",
       "    </tr>\n",
       "    <tr>\n",
       "      <th>2</th>\n",
       "      <td>Redmi 9A (Sea Blue 2GB RAM 32GB Storage) | 2GH...</td>\n",
       "      <td>4.2</td>\n",
       "      <td>74587</td>\n",
       "      <td>6999</td>\n",
       "      <td>8499</td>\n",
       "      <td>Save ₹1,500 (18%)</td>\n",
       "      <td>FREE Delivery by Amazon</td>\n",
       "      <td>NaN</td>\n",
       "    </tr>\n",
       "    <tr>\n",
       "      <th>3</th>\n",
       "      <td>Redmi Note 10 (Aqua Green, 4GB RAM, 64GB Stora...</td>\n",
       "      <td>4.2</td>\n",
       "      <td>95519</td>\n",
       "      <td>13999</td>\n",
       "      <td>15999</td>\n",
       "      <td>Save ₹2,000 (13%)</td>\n",
       "      <td>FREE Delivery by Amazon</td>\n",
       "      <td>NaN</td>\n",
       "    </tr>\n",
       "    <tr>\n",
       "      <th>4</th>\n",
       "      <td>Redmi 9 (Carbon Black, 4GB RAM, 64GB Storage) ...</td>\n",
       "      <td>4.2</td>\n",
       "      <td>87809</td>\n",
       "      <td>9499</td>\n",
       "      <td>10999</td>\n",
       "      <td>Save ₹1,500 (14%)</td>\n",
       "      <td>FREE Delivery by Amazon</td>\n",
       "      <td>NaN</td>\n",
       "    </tr>\n",
       "  </tbody>\n",
       "</table>\n",
       "</div>"
      ],
      "text/plain": [
       "                                          Smartphone  Rating  Reviews count  \\\n",
       "0  Redmi 9 (Sky Blue, 4GB RAM, 64GB Storage) | 2....     4.2          87809   \n",
       "1  Redmi 9A (Nature Green, 2GB RAM, 32GB Storage)...     4.2          74587   \n",
       "2  Redmi 9A (Sea Blue 2GB RAM 32GB Storage) | 2GH...     4.2          74587   \n",
       "3  Redmi Note 10 (Aqua Green, 4GB RAM, 64GB Stora...     4.2          95519   \n",
       "4  Redmi 9 (Carbon Black, 4GB RAM, 64GB Storage) ...     4.2          87809   \n",
       "\n",
       "  Offer price Actual price             Saving                 Delivery  \\\n",
       "0        9499        10999  Save ₹1,500 (14%)  FREE Delivery by Amazon   \n",
       "1        6999         8499  Save ₹1,500 (18%)  FREE Delivery by Amazon   \n",
       "2        6999         8499  Save ₹1,500 (18%)  FREE Delivery by Amazon   \n",
       "3       13999        15999  Save ₹2,000 (13%)  FREE Delivery by Amazon   \n",
       "4        9499        10999  Save ₹1,500 (14%)  FREE Delivery by Amazon   \n",
       "\n",
       "  Status of stock & more offers  \n",
       "0                           NaN  \n",
       "1                           NaN  \n",
       "2                           NaN  \n",
       "3                           NaN  \n",
       "4                           NaN  "
      ]
     },
     "execution_count": 18,
     "metadata": {},
     "output_type": "execute_result"
    }
   ],
   "source": [
    "amazon_data.head()"
   ]
  },
  {
   "cell_type": "markdown",
   "metadata": {
    "id": "KE3oXAyLMnP-"
   },
   "source": [
    "#### 5.2.4 Let's handle Saving feature"
   ]
  },
  {
   "cell_type": "code",
   "execution_count": 19,
   "metadata": {
    "id": "vp3whab95wrw"
   },
   "outputs": [],
   "source": [
    "#spliting to get actual amount\n",
    "amazon_data['Saving'] = amazon_data['Saving'].str.split(' ').str.get(1)\n",
    "#removing comma,.,₹\n",
    "amazon_data['Saving'] = amazon_data['Saving'].str.replace(',', '')\n",
    "amazon_data['Saving'] = amazon_data['Saving'].str.replace('₹','')\n",
    "amazon_data['Saving'] = amazon_data['Saving'].str.replace('.','')\n"
   ]
  },
  {
   "cell_type": "code",
   "execution_count": 20,
   "metadata": {},
   "outputs": [],
   "source": [
    "#removing garbage values and replacing with nan so that they can be dealt with later\n",
    "amazon_data['Saving'] = amazon_data['Saving'].replace(['it','Delivery'],np.nan)"
   ]
  },
  {
   "cell_type": "code",
   "execution_count": 21,
   "metadata": {},
   "outputs": [],
   "source": [
    "amazon_data.loc[amazon_data['Saving'].notnull(),'Saving'] = amazon_data.loc[amazon_data['Saving'].notnull(),'Saving'].apply(int)"
   ]
  },
  {
   "cell_type": "code",
   "execution_count": 22,
   "metadata": {
    "colab": {
     "base_uri": "https://localhost:8080/",
     "height": 208
    },
    "executionInfo": {
     "elapsed": 18,
     "status": "ok",
     "timestamp": 1665620762246,
     "user": {
      "displayName": "V. Arun Kumar",
      "userId": "02991517788843717529"
     },
     "user_tz": -330
    },
    "id": "tll6ldno5wrw",
    "outputId": "8032cfbf-4fa1-4312-80b7-73d15de072a2"
   },
   "outputs": [
    {
     "data": {
      "text/html": [
       "<div>\n",
       "<style scoped>\n",
       "    .dataframe tbody tr th:only-of-type {\n",
       "        vertical-align: middle;\n",
       "    }\n",
       "\n",
       "    .dataframe tbody tr th {\n",
       "        vertical-align: top;\n",
       "    }\n",
       "\n",
       "    .dataframe thead th {\n",
       "        text-align: right;\n",
       "    }\n",
       "</style>\n",
       "<table border=\"1\" class=\"dataframe\">\n",
       "  <thead>\n",
       "    <tr style=\"text-align: right;\">\n",
       "      <th></th>\n",
       "      <th>Smartphone</th>\n",
       "      <th>Rating</th>\n",
       "      <th>Reviews count</th>\n",
       "      <th>Offer price</th>\n",
       "      <th>Actual price</th>\n",
       "      <th>Saving</th>\n",
       "      <th>Delivery</th>\n",
       "      <th>Status of stock &amp; more offers</th>\n",
       "    </tr>\n",
       "  </thead>\n",
       "  <tbody>\n",
       "    <tr>\n",
       "      <th>0</th>\n",
       "      <td>Redmi 9 (Sky Blue, 4GB RAM, 64GB Storage) | 2....</td>\n",
       "      <td>4.2</td>\n",
       "      <td>87809</td>\n",
       "      <td>9499</td>\n",
       "      <td>10999</td>\n",
       "      <td>1500</td>\n",
       "      <td>FREE Delivery by Amazon</td>\n",
       "      <td>NaN</td>\n",
       "    </tr>\n",
       "    <tr>\n",
       "      <th>1</th>\n",
       "      <td>Redmi 9A (Nature Green, 2GB RAM, 32GB Storage)...</td>\n",
       "      <td>4.2</td>\n",
       "      <td>74587</td>\n",
       "      <td>6999</td>\n",
       "      <td>8499</td>\n",
       "      <td>1500</td>\n",
       "      <td>FREE Delivery by Amazon</td>\n",
       "      <td>NaN</td>\n",
       "    </tr>\n",
       "    <tr>\n",
       "      <th>2</th>\n",
       "      <td>Redmi 9A (Sea Blue 2GB RAM 32GB Storage) | 2GH...</td>\n",
       "      <td>4.2</td>\n",
       "      <td>74587</td>\n",
       "      <td>6999</td>\n",
       "      <td>8499</td>\n",
       "      <td>1500</td>\n",
       "      <td>FREE Delivery by Amazon</td>\n",
       "      <td>NaN</td>\n",
       "    </tr>\n",
       "    <tr>\n",
       "      <th>3</th>\n",
       "      <td>Redmi Note 10 (Aqua Green, 4GB RAM, 64GB Stora...</td>\n",
       "      <td>4.2</td>\n",
       "      <td>95519</td>\n",
       "      <td>13999</td>\n",
       "      <td>15999</td>\n",
       "      <td>2000</td>\n",
       "      <td>FREE Delivery by Amazon</td>\n",
       "      <td>NaN</td>\n",
       "    </tr>\n",
       "    <tr>\n",
       "      <th>4</th>\n",
       "      <td>Redmi 9 (Carbon Black, 4GB RAM, 64GB Storage) ...</td>\n",
       "      <td>4.2</td>\n",
       "      <td>87809</td>\n",
       "      <td>9499</td>\n",
       "      <td>10999</td>\n",
       "      <td>1500</td>\n",
       "      <td>FREE Delivery by Amazon</td>\n",
       "      <td>NaN</td>\n",
       "    </tr>\n",
       "  </tbody>\n",
       "</table>\n",
       "</div>"
      ],
      "text/plain": [
       "                                          Smartphone  Rating  Reviews count  \\\n",
       "0  Redmi 9 (Sky Blue, 4GB RAM, 64GB Storage) | 2....     4.2          87809   \n",
       "1  Redmi 9A (Nature Green, 2GB RAM, 32GB Storage)...     4.2          74587   \n",
       "2  Redmi 9A (Sea Blue 2GB RAM 32GB Storage) | 2GH...     4.2          74587   \n",
       "3  Redmi Note 10 (Aqua Green, 4GB RAM, 64GB Stora...     4.2          95519   \n",
       "4  Redmi 9 (Carbon Black, 4GB RAM, 64GB Storage) ...     4.2          87809   \n",
       "\n",
       "  Offer price Actual price Saving                 Delivery  \\\n",
       "0        9499        10999   1500  FREE Delivery by Amazon   \n",
       "1        6999         8499   1500  FREE Delivery by Amazon   \n",
       "2        6999         8499   1500  FREE Delivery by Amazon   \n",
       "3       13999        15999   2000  FREE Delivery by Amazon   \n",
       "4        9499        10999   1500  FREE Delivery by Amazon   \n",
       "\n",
       "  Status of stock & more offers  \n",
       "0                           NaN  \n",
       "1                           NaN  \n",
       "2                           NaN  \n",
       "3                           NaN  \n",
       "4                           NaN  "
      ]
     },
     "execution_count": 22,
     "metadata": {},
     "output_type": "execute_result"
    }
   ],
   "source": [
    "amazon_data.head()"
   ]
  },
  {
   "cell_type": "markdown",
   "metadata": {
    "id": "g_GYBJ-u5wrw"
   },
   "source": [
    "### 5.3 Dealing with missing values."
   ]
  },
  {
   "cell_type": "code",
   "execution_count": 23,
   "metadata": {
    "colab": {
     "base_uri": "https://localhost:8080/"
    },
    "executionInfo": {
     "elapsed": 19,
     "status": "ok",
     "timestamp": 1665620762247,
     "user": {
      "displayName": "V. Arun Kumar",
      "userId": "02991517788843717529"
     },
     "user_tz": -330
    },
    "id": "Qh758tHINBZi",
    "outputId": "0e7aa0f5-dce7-4522-9e32-8f5bf4fac543"
   },
   "outputs": [
    {
     "data": {
      "text/plain": [
       "Smartphone                         0\n",
       "Rating                             0\n",
       "Reviews count                      0\n",
       "Offer price                      206\n",
       "Actual price                     313\n",
       "Saving                           313\n",
       "Delivery                           0\n",
       "Status of stock & more offers    838\n",
       "dtype: int64"
      ]
     },
     "execution_count": 23,
     "metadata": {},
     "output_type": "execute_result"
    }
   ],
   "source": [
    "#checking for total number of null values\n",
    "amazon_data.isnull().sum()"
   ]
  },
  {
   "cell_type": "code",
   "execution_count": 24,
   "metadata": {
    "colab": {
     "base_uri": "https://localhost:8080/"
    },
    "executionInfo": {
     "elapsed": 16,
     "status": "ok",
     "timestamp": 1665620762247,
     "user": {
      "displayName": "V. Arun Kumar",
      "userId": "02991517788843717529"
     },
     "user_tz": -330
    },
    "id": "UmN-EoQ85wrw",
    "outputId": "1286a610-9ac8-414a-b7e7-516115d42b77"
   },
   "outputs": [
    {
     "data": {
      "text/plain": [
       "Smartphone                        0.000000\n",
       "Rating                            0.000000\n",
       "Reviews count                     0.000000\n",
       "Offer price                      15.713196\n",
       "Actual price                     23.874905\n",
       "Saving                           23.874905\n",
       "Delivery                          0.000000\n",
       "Status of stock & more offers    63.920671\n",
       "dtype: float64"
      ]
     },
     "execution_count": 24,
     "metadata": {},
     "output_type": "execute_result"
    }
   ],
   "source": [
    "#percentage of null values\n",
    "#typically delete column with more than 40% of null values \n",
    "#because null values are usually replaced with avgs(mean median or mode)\n",
    "(amazon_data.isnull().sum()/len(amazon_data))*100"
   ]
  },
  {
   "cell_type": "markdown",
   "metadata": {},
   "source": [
    "1. We have null values in both numeric and categorical features\n",
    "2. For offer price, actual price, savings, we will check distribution of data and treat the values accordingly.\n",
    "3. For categorical features use mode imputation technique\n",
    "4. Status of stock & more offers has more than 40% of null values therefore better to drop the feature all together"
   ]
  },
  {
   "cell_type": "markdown",
   "metadata": {
    "id": "c5a7cHL8JgC6"
   },
   "source": [
    "#### 5.3.1 Standard and Non standard Null values\n",
    "-  What isnull() function recognises as missing value"
   ]
  },
  {
   "cell_type": "code",
   "execution_count": 25,
   "metadata": {
    "colab": {
     "base_uri": "https://localhost:8080/",
     "height": 363
    },
    "executionInfo": {
     "elapsed": 16,
     "status": "ok",
     "timestamp": 1665620762247,
     "user": {
      "displayName": "V. Arun Kumar",
      "userId": "02991517788843717529"
     },
     "user_tz": -330
    },
    "id": "xdh-8dTGNHUW",
    "outputId": "9ae5f124-5ab9-4a6d-e94b-5f1ae748a6c9"
   },
   "outputs": [
    {
     "data": {
      "text/html": [
       "<div>\n",
       "<style scoped>\n",
       "    .dataframe tbody tr th:only-of-type {\n",
       "        vertical-align: middle;\n",
       "    }\n",
       "\n",
       "    .dataframe tbody tr th {\n",
       "        vertical-align: top;\n",
       "    }\n",
       "\n",
       "    .dataframe thead th {\n",
       "        text-align: right;\n",
       "    }\n",
       "</style>\n",
       "<table border=\"1\" class=\"dataframe\">\n",
       "  <thead>\n",
       "    <tr style=\"text-align: right;\">\n",
       "      <th></th>\n",
       "      <th>value</th>\n",
       "      <th>Missing</th>\n",
       "    </tr>\n",
       "  </thead>\n",
       "  <tbody>\n",
       "    <tr>\n",
       "      <th>0</th>\n",
       "      <td>9499</td>\n",
       "      <td>False</td>\n",
       "    </tr>\n",
       "    <tr>\n",
       "      <th>1</th>\n",
       "      <td>6999</td>\n",
       "      <td>False</td>\n",
       "    </tr>\n",
       "    <tr>\n",
       "      <th>2</th>\n",
       "      <td>6999</td>\n",
       "      <td>False</td>\n",
       "    </tr>\n",
       "    <tr>\n",
       "      <th>3</th>\n",
       "      <td>13999</td>\n",
       "      <td>False</td>\n",
       "    </tr>\n",
       "    <tr>\n",
       "      <th>4</th>\n",
       "      <td>9499</td>\n",
       "      <td>False</td>\n",
       "    </tr>\n",
       "    <tr>\n",
       "      <th>5</th>\n",
       "      <td>11499</td>\n",
       "      <td>False</td>\n",
       "    </tr>\n",
       "    <tr>\n",
       "      <th>6</th>\n",
       "      <td>6999</td>\n",
       "      <td>False</td>\n",
       "    </tr>\n",
       "    <tr>\n",
       "      <th>7</th>\n",
       "      <td>NaN</td>\n",
       "      <td>True</td>\n",
       "    </tr>\n",
       "    <tr>\n",
       "      <th>8</th>\n",
       "      <td>24999</td>\n",
       "      <td>False</td>\n",
       "    </tr>\n",
       "    <tr>\n",
       "      <th>9</th>\n",
       "      <td>10499</td>\n",
       "      <td>False</td>\n",
       "    </tr>\n",
       "  </tbody>\n",
       "</table>\n",
       "</div>"
      ],
      "text/plain": [
       "   value  Missing\n",
       "0   9499    False\n",
       "1   6999    False\n",
       "2   6999    False\n",
       "3  13999    False\n",
       "4   9499    False\n",
       "5  11499    False\n",
       "6   6999    False\n",
       "7    NaN     True\n",
       "8  24999    False\n",
       "9  10499    False"
      ]
     },
     "execution_count": 25,
     "metadata": {},
     "output_type": "execute_result"
    }
   ],
   "source": [
    "pd.DataFrame({'value':amazon_data['Offer price'],'Missing':amazon_data['Offer price'].isnull()}).head(10)"
   ]
  },
  {
   "cell_type": "markdown",
   "metadata": {},
   "source": [
    "only Nan is considered a missing value by isnull() function"
   ]
  },
  {
   "cell_type": "markdown",
   "metadata": {
    "id": "qf9j5i7EN7ee"
   },
   "source": [
    "#### 5.3.2 Dropping features having more than 45% null values"
   ]
  },
  {
   "cell_type": "code",
   "execution_count": 26,
   "metadata": {
    "id": "VvSwFLTw5wrw"
   },
   "outputs": [],
   "source": [
    "amazon_data.drop(['Status of stock & more offers'],axis=1,inplace=True)"
   ]
  },
  {
   "cell_type": "code",
   "execution_count": 27,
   "metadata": {},
   "outputs": [
    {
     "data": {
      "text/plain": [
       "Index(['Smartphone', 'Rating', 'Reviews count', 'Offer price', 'Actual price',\n",
       "       'Saving', 'Delivery'],\n",
       "      dtype='object')"
      ]
     },
     "execution_count": 27,
     "metadata": {},
     "output_type": "execute_result"
    }
   ],
   "source": [
    "amazon_data.columns"
   ]
  },
  {
   "cell_type": "markdown",
   "metadata": {
    "id": "l6KyTcBoOA0v"
   },
   "source": [
    "#### 5.3.3 Let's analyse price columns"
   ]
  },
  {
   "cell_type": "code",
   "execution_count": null,
   "metadata": {},
   "outputs": [],
   "source": [
    " "
   ]
  },
  {
   "cell_type": "code",
   "execution_count": null,
   "metadata": {},
   "outputs": [],
   "source": []
  },
  {
   "cell_type": "markdown",
   "metadata": {
    "id": "pZNXZBl8Tdag"
   },
   "source": [
    "---------------------------------------------------------------------------------------------"
   ]
  },
  {
   "cell_type": "markdown",
   "metadata": {
    "id": "J4R61nai5wrx"
   },
   "source": [
    "### 5.4 Dealing with Outliers\n",
    "Outliers are extreme values that tend to influce the data distribution significantly without adding much information.\n",
    "- Sometimes they might be valid values\n",
    "- Handling outliers becomes very crucial to build a good model"
   ]
  },
  {
   "cell_type": "markdown",
   "metadata": {
    "id": "8T6i_1hbOvnN"
   },
   "source": [
    "#### 5.4.1 Identify outliers with visualization tools"
   ]
  },
  {
   "cell_type": "code",
   "execution_count": 28,
   "metadata": {
    "colab": {
     "base_uri": "https://localhost:8080/",
     "height": 112
    },
    "executionInfo": {
     "elapsed": 13,
     "status": "ok",
     "timestamp": 1665620762947,
     "user": {
      "displayName": "V. Arun Kumar",
      "userId": "02991517788843717529"
     },
     "user_tz": -330
    },
    "id": "t2MNyZ0h5wrx",
    "outputId": "6ed808e1-0411-4415-ef63-3cf9a8d8692a"
   },
   "outputs": [],
   "source": [
    "# Make use of the Boxplot"
   ]
  },
  {
   "cell_type": "code",
   "execution_count": null,
   "metadata": {
    "colab": {
     "base_uri": "https://localhost:8080/",
     "height": 1000
    },
    "executionInfo": {
     "elapsed": 722,
     "status": "ok",
     "timestamp": 1665620763657,
     "user": {
      "displayName": "V. Arun Kumar",
      "userId": "02991517788843717529"
     },
     "user_tz": -330
    },
    "id": "MVUv71Uq5wrx",
    "outputId": "38d97b4b-552c-427a-e01b-aa8461b5bb41",
    "scrolled": true
   },
   "outputs": [],
   "source": []
  },
  {
   "cell_type": "markdown",
   "metadata": {
    "id": "IHEQvLmqO2nA"
   },
   "source": [
    "#### 5.4.2 Let's check the skewness"
   ]
  },
  {
   "cell_type": "code",
   "execution_count": null,
   "metadata": {
    "colab": {
     "base_uri": "https://localhost:8080/"
    },
    "executionInfo": {
     "elapsed": 14,
     "status": "ok",
     "timestamp": 1665620763658,
     "user": {
      "displayName": "V. Arun Kumar",
      "userId": "02991517788843717529"
     },
     "user_tz": -330
    },
    "id": "67UN9j1N5wrx",
    "outputId": "b76e467a-5b43-4cfe-98cf-99eb6d5970e5"
   },
   "outputs": [],
   "source": []
  },
  {
   "cell_type": "markdown",
   "metadata": {
    "id": "TetSAEKDPH3w"
   },
   "source": [
    "#### 5.4.3 Handling outliers\n",
    "There are various ways we can deal with outliers.\n",
    "- We can try transformations using log method, Z-score transformation\n",
    "- We can try capping using IQR method\n",
    "- We can impute the data using an appropriate value"
   ]
  },
  {
   "cell_type": "markdown",
   "metadata": {
    "id": "5sqJhcCdPsU9"
   },
   "source": [
    "#### 5.4.4 Using log transformation"
   ]
  },
  {
   "cell_type": "code",
   "execution_count": null,
   "metadata": {
    "id": "UehBN5GqQUlj"
   },
   "outputs": [],
   "source": []
  },
  {
   "cell_type": "markdown",
   "metadata": {
    "id": "lcukBYNB5wrx"
   },
   "source": [
    "- For feature *'Reviews count'*, lets apply Log transformation technique in order to reduce the skewness."
   ]
  },
  {
   "cell_type": "code",
   "execution_count": null,
   "metadata": {
    "id": "fV0pgIl25wrx"
   },
   "outputs": [],
   "source": []
  },
  {
   "cell_type": "markdown",
   "metadata": {
    "id": "N6bn_i975wrx"
   },
   "source": [
    "- For feature *'Offer price'*, lets apply Log transformation technique in order to reduce the skewness."
   ]
  },
  {
   "cell_type": "code",
   "execution_count": null,
   "metadata": {
    "id": "Z_dvpCAA5wry"
   },
   "outputs": [],
   "source": []
  },
  {
   "cell_type": "markdown",
   "metadata": {
    "id": "DHycyMab5wry"
   },
   "source": [
    "- For feature *'Actual price'*, lets apply Log transformation technique in order to reduce the skewness."
   ]
  },
  {
   "cell_type": "code",
   "execution_count": null,
   "metadata": {
    "id": "4IO_u5Vq5wry"
   },
   "outputs": [],
   "source": []
  },
  {
   "cell_type": "markdown",
   "metadata": {
    "id": "OHzjEFD15wry"
   },
   "source": [
    "- For feature *'Saving'*, lets apply Log transformation technique in order to reduce the skewness."
   ]
  },
  {
   "cell_type": "code",
   "execution_count": null,
   "metadata": {
    "colab": {
     "base_uri": "https://localhost:8080/",
     "height": 1000
    },
    "executionInfo": {
     "elapsed": 617,
     "status": "ok",
     "timestamp": 1665620764266,
     "user": {
      "displayName": "V. Arun Kumar",
      "userId": "02991517788843717529"
     },
     "user_tz": -330
    },
    "id": "9k52_l-N5wry",
    "outputId": "9f44f4e4-0b23-445b-a99c-c143e3f40075",
    "scrolled": true
   },
   "outputs": [],
   "source": []
  },
  {
   "cell_type": "markdown",
   "metadata": {
    "id": "yAqJb_qTQCzA"
   },
   "source": [
    "#### 5.4.5 Using IQR Method"
   ]
  },
  {
   "cell_type": "code",
   "execution_count": null,
   "metadata": {},
   "outputs": [],
   "source": []
  },
  {
   "cell_type": "code",
   "execution_count": null,
   "metadata": {},
   "outputs": [],
   "source": []
  },
  {
   "cell_type": "markdown",
   "metadata": {
    "id": "vOAnbCldQSKV"
   },
   "source": [
    "#### 5.4.6 Using Capping Technique."
   ]
  },
  {
   "cell_type": "code",
   "execution_count": null,
   "metadata": {
    "colab": {
     "base_uri": "https://localhost:8080/",
     "height": 282
    },
    "executionInfo": {
     "elapsed": 22,
     "status": "ok",
     "timestamp": 1665620765190,
     "user": {
      "displayName": "V. Arun Kumar",
      "userId": "02991517788843717529"
     },
     "user_tz": -330
    },
    "id": "V7jUIZOdQSKV",
    "outputId": "de12e3c2-f9f4-4f9c-dbae-dafb1e9e2c42"
   },
   "outputs": [],
   "source": []
  },
  {
   "cell_type": "code",
   "execution_count": null,
   "metadata": {},
   "outputs": [],
   "source": []
  },
  {
   "cell_type": "markdown",
   "metadata": {
    "id": "EJ65_OX9Rmp-"
   },
   "source": [
    "# Keep Learning :)"
   ]
  }
 ],
 "metadata": {
  "colab": {
   "collapsed_sections": [],
   "provenance": []
  },
  "kernelspec": {
   "display_name": "Python 3 (ipykernel)",
   "language": "python",
   "name": "python3"
  },
  "language_info": {
   "codemirror_mode": {
    "name": "ipython",
    "version": 3
   },
   "file_extension": ".py",
   "mimetype": "text/x-python",
   "name": "python",
   "nbconvert_exporter": "python",
   "pygments_lexer": "ipython3",
   "version": "3.12.0"
  }
 },
 "nbformat": 4,
 "nbformat_minor": 1
}
